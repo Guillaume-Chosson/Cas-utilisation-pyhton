{
 "cells": [
  {
   "cell_type": "code",
   "execution_count": 20,
   "metadata": {},
   "outputs": [],
   "source": [
    "import pandas as pd \n",
    "import numpy as np\n",
    "import datetime"
   ]
  },
  {
   "cell_type": "code",
   "execution_count": 21,
   "metadata": {
    "scrolled": true
   },
   "outputs": [
    {
     "name": "stdout",
     "output_type": "stream",
     "text": [
      "What is the 3 digit Brands CODE for the file you are uploading?P04\n",
      "{'P04'}\n",
      "             code Store Number business_date Point Of PurchaseName hour_begin  \\\n",
      "0         P042509         2509     2019-1-16              Delivery          0   \n",
      "1         P042509         2509     2019-1-16              Delivery          1   \n",
      "2         P042509         2509     2019-1-16              Delivery         10   \n",
      "3         P042509         2509     2019-1-16              Delivery         11   \n",
      "4         P042509         2509     2019-1-16              Delivery         12   \n",
      "...           ...          ...           ...                   ...        ...   \n",
      "1738795  P0413264        13264     2019-12-9              Take Out          5   \n",
      "1738796  P0413264        13264     2019-12-9              Take Out          6   \n",
      "1738797  P0413264        13264     2019-12-9              Take Out          7   \n",
      "1738798  P0413264        13264     2019-12-9              Take Out          8   \n",
      "1738799  P0413264        13264     2019-12-9              Take Out          9   \n",
      "\n",
      "         Sales  \n",
      "0          0.0  \n",
      "1          0.0  \n",
      "2          0.0  \n",
      "3          0.0  \n",
      "4          0.0  \n",
      "...        ...  \n",
      "1738795    0.0  \n",
      "1738796    0.0  \n",
      "1738797    0.0  \n",
      "1738798    0.0  \n",
      "1738799    0.0  \n",
      "\n",
      "[1738800 rows x 6 columns]\n"
     ]
    }
   ],
   "source": [
    "##yawey\n",
    "\n",
    "def read_file():\n",
    "    filepath = \"C:/Users/adria/OneDrive/Escritorio/\"\n",
    "    filename = filepath + 'HourlySales-2019-POPFL.csv'\n",
    "    inputed_code = input(\"What is the 3 digit Brands CODE for the file you are uploading?\")\n",
    "    inputed_code = inputed_code.upper()\n",
    "    print({inputed_code})\n",
    "    \n",
    "\n",
    "\n",
    "    df = pd.read_csv(filename,delimiter = ',')\n",
    "    df['QuarterHourBegin'] = df['QuarterHourBegin'].astype(str)\n",
    "    df['hour_begin'] = df['QuarterHourBegin'].str.partition(':')[0]\n",
    "\n",
    "    df['date_month'] = df['Business Date'].str.partition('/')[0]\n",
    "    df['date_day'] = df['Business Date'].str.partition('/')[2]\n",
    "    df['date_day'] = df['date_day'].str.partition('/')[0]\n",
    "    df['date_year'] = df['Business Date'].str.rpartition('/')[2]\n",
    "    \n",
    "    df['business_date'] = df['date_year']+'-'+df['date_month']+'-'+df['date_day']\n",
    "\n",
    "    df = df.drop(columns=['date_day', 'date_month', 'date_year','Business Date', 'QuarterHourEnd'])\n",
    "\n",
    "    first_column = df.pop('business_date')\n",
    "    df.insert(0, 'business_date', first_column)\n",
    "\n",
    "    df_groupby = df.groupby(['Store Number', 'business_date', 'Point Of PurchaseName', 'hour_begin'])['Sales'].sum().reset_index()\n",
    "    df_groupby[\"code\"] = str(inputed_code)\n",
    "    df_groupby[\"Store Number\"] = df_groupby[\"Store Number\"].astype(str)\n",
    "    df_groupby[\"code\"] = df_groupby[\"code\"] + df_groupby[\"Store Number\"]\n",
    "    \n",
    "    first_column = df_groupby.pop('code')\n",
    "    df_groupby.insert(0, 'code', first_column)\n",
    "\n",
    "    df_groupby.to_csv('test_4.csv')\n",
    "    #print(df.iloc[-1])\n",
    "    print(df_groupby)\n",
    "#print(df['Business Date'])\n",
    "read_file()\n"
   ]
  },
  {
   "cell_type": "code",
   "execution_count": null,
   "metadata": {},
   "outputs": [],
   "source": []
  }
 ],
 "metadata": {
  "kernelspec": {
   "display_name": "Python 3 (ipykernel)",
   "language": "python",
   "name": "python3"
  },
  "language_info": {
   "codemirror_mode": {
    "name": "ipython",
    "version": 3
   },
   "file_extension": ".py",
   "mimetype": "text/x-python",
   "name": "python",
   "nbconvert_exporter": "python",
   "pygments_lexer": "ipython3",
   "version": "3.9.15"
  },
  "toc": {
   "base_numbering": 1,
   "nav_menu": {},
   "number_sections": true,
   "sideBar": true,
   "skip_h1_title": false,
   "title_cell": "Table of Contents",
   "title_sidebar": "Contents",
   "toc_cell": false,
   "toc_position": {},
   "toc_section_display": true,
   "toc_window_display": false
  },
  "varInspector": {
   "cols": {
    "lenName": 16,
    "lenType": 16,
    "lenVar": 40
   },
   "kernels_config": {
    "python": {
     "delete_cmd_postfix": "",
     "delete_cmd_prefix": "del ",
     "library": "var_list.py",
     "varRefreshCmd": "print(var_dic_list())"
    },
    "r": {
     "delete_cmd_postfix": ") ",
     "delete_cmd_prefix": "rm(",
     "library": "var_list.r",
     "varRefreshCmd": "cat(var_dic_list()) "
    }
   },
   "types_to_exclude": [
    "module",
    "function",
    "builtin_function_or_method",
    "instance",
    "_Feature"
   ],
   "window_display": false
  },
  "vscode": {
   "interpreter": {
    "hash": "3a6b873825edb8ab5f734166f4373aebed491d1bab037434280a4f0e93148f9b"
   }
  }
 },
 "nbformat": 4,
 "nbformat_minor": 2
}
